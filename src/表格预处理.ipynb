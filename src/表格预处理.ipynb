{
 "cells": [
  {
   "cell_type": "code",
   "execution_count": 5,
   "metadata": {},
   "outputs": [
    {
     "data": {
      "text/plain": [
       "False"
      ]
     },
     "execution_count": 5,
     "metadata": {},
     "output_type": "execute_result"
    },
    {
     "name": "stdout",
     "output_type": "stream",
     "text": [
      "The autoreload extension is already loaded. To reload it, use:\n",
      "  %reload_ext autoreload\n"
     ]
    }
   ],
   "source": [
    "import json\n",
    "import os\n",
    "import re\n",
    "import datetime\n",
    "import warnings\n",
    "warnings.filterwarnings(\"ignore\")\n",
    "import numpy as np\n",
    "import pandas as pd\n",
    "import requests\n",
    "pd.set_option('display.max_colwidth', 200)\n",
    "pd.set_option('display.max_columns', 90)\n",
    "\n",
    "from tqdm import tqdm\n",
    "from dotenv import load_dotenv\n",
    "load_dotenv(verbose=True, override=True)\n",
    "\n",
    "from IPython.core.interactiveshell import InteractiveShell\n",
    "InteractiveShell.ast_node_interactivity = \"all\" \n",
    "# TEAM_TOKEN = os.getenv('TEAM_TOKEN')\n",
    "# print(TEAM_TOKEN)\n",
    "\n",
    "%load_ext autoreload\n",
    "%autoreload 2\n",
    "from utils import *\n",
    "from embedding import find_similar_docs\n",
    "from LLM import get_embeddings, LLM, init_log_path\n",
    "from sql_retrieve import execute_sql\n",
    "init_log_path('../log/test.log')"
   ]
  },
  {
   "cell_type": "markdown",
   "metadata": {},
   "source": [
    "### 原始表加载"
   ]
  },
  {
   "cell_type": "code",
   "execution_count": 6,
   "metadata": {},
   "outputs": [],
   "source": [
    "data_save_path = \"../data/interim1\"\n",
    "data_info_path  = '../data/raw/数据字典 .xlsx'\n",
    "if not os.path.isdir(data_save_path):\n",
    "    os.makedirs(data_save_path)"
   ]
  },
  {
   "cell_type": "code",
   "execution_count": 8,
   "metadata": {},
   "outputs": [
    {
     "data": {
      "text/plain": [
       "((77, 5), (3489, 5))"
      ]
     },
     "execution_count": 8,
     "metadata": {},
     "output_type": "execute_result"
    },
    {
     "name": "stdout",
     "output_type": "stream",
     "text": [
      "字段数量: (3398, 7)\n"
     ]
    },
    {
     "data": {
      "text/plain": [
       "Index(['table_name', 'column_name', 'column_description', '注释',\n",
       "       'table_name_all', '库_表名'],\n",
       "      dtype='object')"
      ]
     },
     "execution_count": 8,
     "metadata": {},
     "output_type": "execute_result"
    },
    {
     "data": {
      "text/html": [
       "<div>\n",
       "<style scoped>\n",
       "    .dataframe tbody tr th:only-of-type {\n",
       "        vertical-align: middle;\n",
       "    }\n",
       "\n",
       "    .dataframe tbody tr th {\n",
       "        vertical-align: top;\n",
       "    }\n",
       "\n",
       "    .dataframe thead th {\n",
       "        text-align: right;\n",
       "    }\n",
       "</style>\n",
       "<table border=\"1\" class=\"dataframe\">\n",
       "  <thead>\n",
       "    <tr style=\"text-align: right;\">\n",
       "      <th></th>\n",
       "      <th>table_name</th>\n",
       "      <th>column_name</th>\n",
       "      <th>column_description</th>\n",
       "      <th>注释</th>\n",
       "      <th>table_name_all</th>\n",
       "      <th>库_表名</th>\n",
       "    </tr>\n",
       "  </thead>\n",
       "  <tbody>\n",
       "    <tr>\n",
       "      <th>0</th>\n",
       "      <td>LC_StockArchives</td>\n",
       "      <td>ID</td>\n",
       "      <td>ID</td>\n",
       "      <td></td>\n",
       "      <td>AStockBasicInfoDB.LC_StockArchives</td>\n",
       "      <td>上市公司基本资料.公司概况</td>\n",
       "    </tr>\n",
       "  </tbody>\n",
       "</table>\n",
       "</div>"
      ],
      "text/plain": [
       "         table_name column_name column_description 注释  \\\n",
       "0  LC_StockArchives          ID                 ID      \n",
       "\n",
       "                       table_name_all           库_表名  \n",
       "0  AStockBasicInfoDB.LC_StockArchives  上市公司基本资料.公司概况  "
      ]
     },
     "execution_count": 8,
     "metadata": {},
     "output_type": "execute_result"
    }
   ],
   "source": [
    "df_table = pd.read_excel(data_info_path)\n",
    "df_col_origin = pd.read_excel(data_info_path, sheet_name='表字段信息')\n",
    "df_table.shape, df_col_origin.shape\n",
    "\n",
    "df_table['库_表名'] = df_table['库名中文'] + '.' + df_table['表中文']\n",
    "df_table['table_name_all'] = df_table['库名英文'] + \".\" + df_table['表英文']\n",
    "df_tmp = df_table[['table_name_all', '表英文', '库_表名']]\n",
    "df_tmp.columns = ['table_name_all','table_name', '库_表名']\n",
    "\n",
    "df_col_origin = df_col_origin[~df_col_origin['column_description'].isnull()]\n",
    "df_col_origin = df_col_origin.merge(df_tmp, on='table_name', how='left')\n",
    "df_col_origin = df_col_origin.drop_duplicates().reset_index(drop=True)\n",
    "df_col_origin['注释'] = df_col_origin['注释'].fillna('')\n",
    "print('字段数量:', df_col_origin.shape)\n",
    "df_col_origin.drop(['Annotation'], inplace=True, axis=1)\n",
    "df_col_origin.columns\n",
    "df_col_origin.head(1)"
   ]
  },
  {
   "cell_type": "markdown",
   "metadata": {},
   "source": [
    "### 空值统计"
   ]
  },
  {
   "cell_type": "code",
   "execution_count": 5,
   "metadata": {},
   "outputs": [
    {
     "name": "stderr",
     "output_type": "stream",
     "text": [
      "3398it [15:08,  3.74it/s]\n"
     ]
    },
    {
     "name": "stdout",
     "output_type": "stream",
     "text": [
      "空值统计: (3398, 7)\n"
     ]
    }
   ],
   "source": [
    "all_count = []\n",
    "for i, row in tqdm(df_col_origin.iterrows()):\n",
    "    col = row['column_name']\n",
    "    table_name_all = row['table_name_all']\n",
    "    # 以下是修改后的 SQL 语句，根据不同的列名动态生成\n",
    "    sql = f\"\"\"SELECT \n",
    "                ROUND(SUM(CASE WHEN {col} IS NULL THEN 1 ELSE 0 END) * 100.0 / COUNT(*), 2) AS Null_Rate\n",
    "            FROM {table_name_all};\"\"\"\n",
    "    try:\n",
    "        res_sql = execute_sql(sql)\n",
    "        res = res_sql['data'][0]\n",
    "    except:\n",
    "        res = {'Null_Rate': '-100'}\n",
    "    res['table_name_all'] = table_name_all\n",
    "    res['col'] = col\n",
    "    all_count.append(res)\n",
    "\n",
    "df_null_count = pd.concat([df_col_origin.reset_index(drop=True), pd.DataFrame(all_count)[['Null_Rate']]], axis=1)\n",
    "#[['库名中文', '表中文','table_name_all', 'column_name', 'column_description', 'Null_Rate']]\n",
    "df_null_count['Null_Rate'] = df_null_count['Null_Rate'].astype(float)\n",
    "print('空值统计:', df_null_count.shape)\n",
    "df_null_count.to_excel(f'{data_save_path}/字段空值率统计.xlsx', index=False)"
   ]
  },
  {
   "cell_type": "code",
   "execution_count": 6,
   "metadata": {},
   "outputs": [
    {
     "data": {
      "text/html": [
       "<div>\n",
       "<style scoped>\n",
       "    .dataframe tbody tr th:only-of-type {\n",
       "        vertical-align: middle;\n",
       "    }\n",
       "\n",
       "    .dataframe tbody tr th {\n",
       "        vertical-align: top;\n",
       "    }\n",
       "\n",
       "    .dataframe thead th {\n",
       "        text-align: right;\n",
       "    }\n",
       "</style>\n",
       "<table border=\"1\" class=\"dataframe\">\n",
       "  <thead>\n",
       "    <tr style=\"text-align: right;\">\n",
       "      <th></th>\n",
       "      <th>table_name</th>\n",
       "      <th>column_name</th>\n",
       "      <th>column_description</th>\n",
       "      <th>注释</th>\n",
       "      <th>table_name_all</th>\n",
       "      <th>库_表名</th>\n",
       "      <th>Null_Rate</th>\n",
       "    </tr>\n",
       "  </thead>\n",
       "  <tbody>\n",
       "    <tr>\n",
       "      <th>0</th>\n",
       "      <td>LC_StockArchives</td>\n",
       "      <td>ID</td>\n",
       "      <td>ID</td>\n",
       "      <td>NaN</td>\n",
       "      <td>AStockBasicInfoDB.LC_StockArchives</td>\n",
       "      <td>上市公司基本资料.公司概况</td>\n",
       "      <td>0.0</td>\n",
       "    </tr>\n",
       "  </tbody>\n",
       "</table>\n",
       "</div>"
      ],
      "text/plain": [
       "         table_name column_name column_description   注释  \\\n",
       "0  LC_StockArchives          ID                 ID  NaN   \n",
       "\n",
       "                       table_name_all           库_表名  Null_Rate  \n",
       "0  AStockBasicInfoDB.LC_StockArchives  上市公司基本资料.公司概况        0.0  "
      ]
     },
     "execution_count": 6,
     "metadata": {},
     "output_type": "execute_result"
    },
    {
     "data": {
      "text/plain": [
       "3398"
      ]
     },
     "execution_count": 6,
     "metadata": {},
     "output_type": "execute_result"
    }
   ],
   "source": [
    "df_null_count = pd.read_excel(f'{data_save_path}/字段空值率统计.xlsx')\n",
    "df_null_count = df_null_count.drop_duplicates()\n",
    "df_null_count['table_name'] = df_null_count['table_name_all'].apply(lambda x: x.split('.')[1])\n",
    "df_null_count.head(1)\n",
    "len(df_null_count)"
   ]
  },
  {
   "cell_type": "code",
   "execution_count": 7,
   "metadata": {},
   "outputs": [
    {
     "data": {
      "text/plain": [
       "318"
      ]
     },
     "execution_count": 7,
     "metadata": {},
     "output_type": "execute_result"
    },
    {
     "name": "stderr",
     "output_type": "stream",
     "text": [
      "0it [00:00, ?it/s]"
     ]
    },
    {
     "name": "stderr",
     "output_type": "stream",
     "text": [
      "318it [01:55,  2.74it/s]\n"
     ]
    },
    {
     "data": {
      "text/plain": [
       "11"
      ]
     },
     "execution_count": 7,
     "metadata": {},
     "output_type": "execute_result"
    }
   ],
   "source": [
    "# 比例\n",
    "df_ratio_col =  df_col_origin[df_col_origin['column_description'].str.contains('率')|\n",
    "                       df_col_origin['column_description'].str.contains('比例')]\n",
    "len(df_ratio_col)\n",
    "\n",
    "res_max_v = []\n",
    "for i, row in tqdm(df_ratio_col.iterrows()):\n",
    "    col = row['column_name']\n",
    "    table_name_all = row['table_name_all']\n",
    "\n",
    "    sql = f\"\"\"SELECT \n",
    "                max({col}) as max_v\n",
    "            FROM {table_name_all};\"\"\"\n",
    "    res_sql = execute_sql(sql)\n",
    "    res = res_sql['data'][0]\n",
    "    res['table_name_all'] = table_name_all\n",
    "    res['column_name'] = col\n",
    "    \n",
    "    res_max_v.append(res)\n",
    "\n",
    "df_ratio_note = pd.DataFrame(res_max_v)\n",
    "df_ratio_note.to_excel(f'{data_save_path}/df_ratio_note字段单位统计.xlsx', index=False)\n",
    "11"
   ]
  },
  {
   "cell_type": "code",
   "execution_count": 8,
   "metadata": {},
   "outputs": [
    {
     "name": "stdout",
     "output_type": "stream",
     "text": [
      "(318, 3)\n",
      "去除null: (291, 3)\n",
      "小数列数量: (39, 3)\n"
     ]
    },
    {
     "data": {
      "text/html": [
       "<div>\n",
       "<style scoped>\n",
       "    .dataframe tbody tr th:only-of-type {\n",
       "        vertical-align: middle;\n",
       "    }\n",
       "\n",
       "    .dataframe tbody tr th {\n",
       "        vertical-align: top;\n",
       "    }\n",
       "\n",
       "    .dataframe thead th {\n",
       "        text-align: right;\n",
       "    }\n",
       "</style>\n",
       "<table border=\"1\" class=\"dataframe\">\n",
       "  <thead>\n",
       "    <tr style=\"text-align: right;\">\n",
       "      <th></th>\n",
       "      <th>max_v</th>\n",
       "      <th>table_name_all</th>\n",
       "      <th>column_name</th>\n",
       "      <th>额外注释</th>\n",
       "    </tr>\n",
       "  </thead>\n",
       "  <tbody>\n",
       "    <tr>\n",
       "      <th>132</th>\n",
       "      <td>1.000000</td>\n",
       "      <td>AStockShareholderDB.LC_ShareFPSta</td>\n",
       "      <td>AccuPCTOfPled</td>\n",
       "      <td>值为小数</td>\n",
       "    </tr>\n",
       "    <tr>\n",
       "      <th>133</th>\n",
       "      <td>0.772300</td>\n",
       "      <td>AStockShareholderDB.LC_ShareFPSta</td>\n",
       "      <td>AccuProportion</td>\n",
       "      <td>值为小数</td>\n",
       "    </tr>\n",
       "    <tr>\n",
       "      <th>134</th>\n",
       "      <td>0.774762</td>\n",
       "      <td>AStockShareholderDB.LC_ShareFPSta</td>\n",
       "      <td>AccuProportionCalc</td>\n",
       "      <td>值为小数</td>\n",
       "    </tr>\n",
       "    <tr>\n",
       "      <th>255</th>\n",
       "      <td>1.467523</td>\n",
       "      <td>AStockMarketQuotesDB.QT_StockPerformance</td>\n",
       "      <td>YearVolatilityByDay</td>\n",
       "      <td>值为小数</td>\n",
       "    </tr>\n",
       "  </tbody>\n",
       "</table>\n",
       "</div>"
      ],
      "text/plain": [
       "        max_v                            table_name_all          column_name  \\\n",
       "132  1.000000         AStockShareholderDB.LC_ShareFPSta        AccuPCTOfPled   \n",
       "133  0.772300         AStockShareholderDB.LC_ShareFPSta       AccuProportion   \n",
       "134  0.774762         AStockShareholderDB.LC_ShareFPSta   AccuProportionCalc   \n",
       "255  1.467523  AStockMarketQuotesDB.QT_StockPerformance  YearVolatilityByDay   \n",
       "\n",
       "     额外注释  \n",
       "132  值为小数  \n",
       "133  值为小数  \n",
       "134  值为小数  \n",
       "255  值为小数  "
      ]
     },
     "execution_count": 8,
     "metadata": {},
     "output_type": "execute_result"
    }
   ],
   "source": [
    "# df_ratio_note = pd.read_excel('../data/interim/df_ratio_note字段单位统计.xlsx')\n",
    "print(df_ratio_note.shape)\n",
    "df_ratio_note = df_ratio_note[~df_ratio_note['max_v'].isnull()]\n",
    "print('去除null:', df_ratio_note.shape)\n",
    "\n",
    "df_ratio_note['max_v'] = pd.to_numeric(df_ratio_note['max_v'], errors='coerce')\n",
    "df_ratio_note = df_ratio_note[df_ratio_note['max_v'] <= 2]\n",
    "print('小数列数量:', df_ratio_note.shape)\n",
    "df_ratio_note['额外注释'] = '值为小数'\n",
    "\n",
    "# df_ratio_note.sample(3)\n",
    "cols_temper = ['AccuPCTOfPled','AccuProportion', 'AccuProportionCalc','YearVolatilityByDay']\n",
    "df_ratio_note[df_ratio_note['column_name'].isin(cols_temper)]"
   ]
  },
  {
   "cell_type": "markdown",
   "metadata": {},
   "source": [
    "### 表格处理"
   ]
  },
  {
   "cell_type": "code",
   "execution_count": 9,
   "metadata": {},
   "outputs": [],
   "source": [
    "def get_date_note(df):\n",
    "    df.loc[df['column_name']=='EndDate', '额外注释'] = '【日期字段】'\n",
    "    df.loc[df['column_name']=='InfoPublDate', '额外注释'] = '【日期字段】'\n",
    "    df.loc[df['column_name']=='TradingDay', '额外注释'] = '【日期字段】'\n",
    "    df.loc[df['column_name']=='TradingDate', '额外注释'] = '【日期字段】'\n",
    "    df.loc[df['column_description']=='上市日期', '额外注释'] = '【日期字段】'\n",
    "    df.loc[(df['column_name']=='TranDate')&(df['table_name']=='LC_ShareTransfer'), '额外注释'] = '【日期字段】'\n",
    "    df.loc[df['column_name']=='EstablishmentDate', '额外注释'] = '【日期字段】' # 成立日期\n",
    "    df.loc[df['column_name']=='BeginDate', '额外注释'] = '【日期字段】' # 起始日期\n",
    "    df.loc[df['column_name']=='InDate', '额外注释'] = '【日期字段】' # 调入日期\n",
    "    df.loc[df['column_name']=='OutDate', '额外注释'] = '【日期字段】' # 调出日期\n",
    "    df.loc[df['column_name']=='EffectiveDate', '额外注释'] = '【日期字段】' # 生效日期\n",
    "    df.loc[df['column_name']==\"FirstPublDate\", '额外注释'] = '【日期字段】' # 首次信息发布日期\n",
    "    for col in ['ReceptionDate', 'ReceptionDateE']:\n",
    "        df.loc[df['column_name']==col, '额外注释'] = '【日期字段】' # 接待日期/截止日\n",
    "\n",
    "    df.loc[df['column_name']=='Year', '额外注释'] = '【日期字段】,示例: 2020' # 日期\n",
    "    \n",
    "    for table in ['LC_ViolatiParty', 'LC_Mshareholder', 'LC_Buyback']:\n",
    "        df.loc[(df['column_name']=='EndDate') & (df['table_name']==table), '额外注释'] = ''\n",
    "    df.loc[(df['column_name']=='BeginDate') & (df['table_name']=='LC_ViolatiParty'), '额外注释'] = '【日期字段】'\n",
    "    return df\n",
    "\n",
    "def get_other_note(df):\n",
    "    df.loc[df['column_description']=='证券代码', '额外注释'] = '股票'\n",
    "    df.loc[df['column_name']=='SubclassName', '额外注释'] = \"是'所属1级概念名称'的子类\"\n",
    "    df.loc[df['column_name']=='SubclassCode', '额外注释'] = \"是'SubclassName'的对应代码\"\n",
    "    df.loc[df['column_name']=='ConceptName', '额外注释'] = \"是'所属2级概念名称'的子类\"\n",
    "    df.loc[df['column_name']=='ConceptName', '额外注释'] = \"是'所属2级概念名称'的子类\"\n",
    "    df.loc[df['column_name']=='ChiName', '额外注释'] = \"公司全称\"\n",
    "    df.loc[df['column_name']=='ChiNameAbbr', '额外注释'] = \"公司中文名称缩写,中文简称\"\n",
    "    df.loc[df['column_name']=='RegAddr', '额外注释'] = \"可用 LIKE '%{city}%'对注册地址进行模糊匹配查询\"\n",
    "    df.loc[df['column_name']=='PartyName', '额外注释'] = \"受到处罚的公司名称(公司全称)\" #或者个人名称\n",
    "    df.loc[df['column_name']=='Manager', '额外注释'] = \"Manager字段中可能包含多个管理人的名字, 作为筛选条件要用Manager like '%某某%'\"\n",
    "    df.loc[(df['column_name']=='SerialNumber')&(df['table_name']=='LC_SuppCustDetail'), '额外注释'] = \"999表示前5大客户、前5大供应商的合计值；990表示前5大客户、前5大供应商关联方合计值\"\n",
    "    df.loc[(df['column_name']=='SerialNumber')&(df['table_name']=='LC_SuppCustDetail'), 'column_description'] = \"序号-前5大客户\"\n",
    "    # df.loc[df['column_name']==\"ContractEffect\", '额外注释'] = \"详细描述了影响情况\"\n",
    "    df.loc[(df['column_name']=='IndustryName')&(df['table_name']=='LC_IndustryValuation'), 'column_description'] = \"行业名称\"\n",
    "\n",
    "    # 非结构化数据处理\n",
    "    df.loc[(df['column_name']=='Participant')&(df['table_name']=='LC_InvestorRa'), '额外注释'] = \"记录了所有的人员，不同人员用；或者、分隔开。统计人员数量可以用以下SQL(计算替换；和、字符前后的长度差异)：(CHAR_LENGTH(Participant) - CHAR_LENGTH(REPLACE(REPLACE(Participant, '；', ''), '、', ''))) +1 AS Participant_count\"\n",
    "    \n",
    "    df.loc[(df['column_name']=='ListingCreper')&(df['table_name']=='LC_InvestorRa'), '额外注释'] = \"\"\"记录了所有人员，不同人员存在：时用；分隔，不存在：时用、分隔)，统计人员数量可以用以下SQL：\n",
    "(CASE WHEN ListingCreper LIKE '%：%' THEN (CHAR_LENGTH(ListingCreper) - CHAR_LENGTH(REPLACE(ListingCreper, '；', ''))) +1\n",
    "      WHEN ListingCreper LIKE '%、%' THEN (CHAR_LENGTH(ListingCreper) - CHAR_LENGTH(REPLACE(ListingCreper, '、', ''))) +1\n",
    "      ELSE 1 END\n",
    ") AS ListingCreper_count\"\"\"\n",
    "\n",
    "    df.loc[(df['column_name']=='IssueObject')&(df['table_name']=='LC_AShareSeasonedNewIssue'), '额外注释'] = \"\"\"记录了所有的发行对象，不同人员用、分隔开。统计人员数量可以用以下SQL(计算替换、字符前后的长度差异)：\n",
    "(CHAR_LENGTH(IssueObject) - CHAR_LENGTH(REPLACE(IssueObject, '、', ''))) +1 AS IssueObject_count\"\"\"\n",
    "\n",
    "    df.loc[(df['column_name']=='MainBusiness')&(df['table_name']=='LC_Mshareholder'), '额外注释'] = \"\"\"记录了所有主要业务，不同业务用、或者；或者;分隔开。统计数量可以用以下SQL：\n",
    "CHAR_LENGTH(MainBusiness) - CHAR_LENGTH(REGEXP_REPLACE(MainBusiness, '[;、；]', '')) + 1 as MainBusiness_count\"\"\"\n",
    "\n",
    "    df.loc[(df['column_name']=='Lawyer')&(df['table_name']=='LC_SMAttendInfo'), '额外注释'] = \"\"\"记录了所有律师，不同律师用、或者；或者;分隔开。统计数量可以用以下SQL：\n",
    "CHAR_LENGTH(Lawyer) - CHAR_LENGTH(REGEXP_REPLACE(Lawyer, '[、]', '')) + 1 as Lawyer_count\"\"\"\n",
    "\n",
    "\n",
    "    # 是否的注释\n",
    "    df.loc[df['注释'].str.contains('1-是'), '额外注释'] = df[df['注释'].str.contains('1-是')]['注释'].apply(get_code_value_yesno)\n",
    "    return df\n",
    "\n",
    "def filter_df(df, drop_cols, drop_tables):\n",
    "    for drop_item in drop_cols:\n",
    "        table_name = drop_item['table_name']\n",
    "        column_names = drop_item['column_name']\n",
    "        mask = (df['table_name'] == table_name) & df['column_name'].isin(column_names)\n",
    "        df = df[~mask]\n",
    "    print('filter_df:', df.shape)\n",
    "    df = df[~df['table_name'].isin(drop_tables)]\n",
    "    return df"
   ]
  },
  {
   "cell_type": "code",
   "execution_count": 10,
   "metadata": {},
   "outputs": [
    {
     "name": "stdout",
     "output_type": "stream",
     "text": [
      "表描述简介完整性: 0\n",
      "df_col: (3398, 10)\n",
      "filter_df: (3394, 10)\n",
      "----- drop table 字段后 -----\n",
      "表数量 (77, 8)\n",
      "字段数量: (2772, 12)\n",
      "日期字段数量 94\n",
      "带额外注释数据: 189\n"
     ]
    }
   ],
   "source": [
    "# drop_table = ['上市公司股票行情.日行情表'] # 和'股票行情表现(新)'重复\n",
    "df_table['库_表名'] = df_table['库名中文'] + '.' + df_table['表中文']\n",
    "df_table['table_name_all'] = df_table['库名英文'] + \".\" + df_table['表英文']\n",
    "df_table['表描述简介'] = df_table['表描述'].apply(extract_data_for_desp)\n",
    "df_table['表描述简介'] = df_table['表描述简介'].apply(lambda x: x.replace('1.', ''))\n",
    "print('表描述简介完整性:', len(df_table[df_table['表描述简介']=='']))\n",
    "\n",
    "\n",
    "#######字段处理\n",
    "df_col = df_col_origin.merge(df_table[['库_表名', '库名中文', '表中文']], on='库_表名', how='left')\n",
    "df_col = df_col.merge(df_ratio_note, how='left', on=['table_name_all', 'column_name'])\n",
    "print('df_col:', df_col.shape)\n",
    "\n",
    "drop_cols = [{'table_name': 'HK_SecuMain', 'column_name':['ChiNameAbbr', 'SecuCategory']},\n",
    "             {'table_name': 'LC_InvestorDetail', 'column_name':['PersonalID']},\n",
    "             {'table_name': 'LC_ESOP', 'column_name':['CompanyCode']}, # 空字段\n",
    "             ]\n",
    "drop_tables = ['LC_InvestorDetail']\n",
    "\n",
    "## 注释字段\n",
    "df_col = get_date_note(df_col)\n",
    "df_col = get_other_note(df_col)\n",
    "\n",
    "# 过滤字段\n",
    "df_col = filter_df(df_col, drop_cols, drop_tables)\n",
    "df_col = df_col.merge(df_null_count[['table_name_all', 'column_name', 'Null_Rate']], how='left',\n",
    "                      on=['table_name_all', 'column_name'])\n",
    "\n",
    "df_col = df_col[df_col['Null_Rate']<99]\n",
    "df_col['column_description'] = df_col['column_description'].str.replace(r'1+$', '', regex=True)\n",
    "df_col['Null_Rate_str'] = df_col['Null_Rate'].apply(lambda x: f\"null ratio:{int(x)}%\" if x > 15 else \"\")\n",
    "\n",
    "# df_table = df_table[~df_table['库_表名'].isin(drop_table)]\n",
    "# df_col = df_col[~df_col['库_表名'].isin(drop_table)]\n",
    "print('-'*5, 'drop table 字段后', '-'*5)\n",
    "print('表数量', df_table.shape)\n",
    "print('字段数量:', df_col.shape)\n",
    "print('日期字段数量', (df_col['额外注释']=='【日期字段】').sum())\n",
    "print('带额外注释数据:', len(df_col[~df_col['额外注释'].isnull()]))"
   ]
  },
  {
   "cell_type": "code",
   "execution_count": 12,
   "metadata": {},
   "outputs": [
    {
     "data": {
      "text/html": [
       "<div>\n",
       "<style scoped>\n",
       "    .dataframe tbody tr th:only-of-type {\n",
       "        vertical-align: middle;\n",
       "    }\n",
       "\n",
       "    .dataframe tbody tr th {\n",
       "        vertical-align: top;\n",
       "    }\n",
       "\n",
       "    .dataframe thead th {\n",
       "        text-align: right;\n",
       "    }\n",
       "</style>\n",
       "<table border=\"1\" class=\"dataframe\">\n",
       "  <thead>\n",
       "    <tr style=\"text-align: right;\">\n",
       "      <th></th>\n",
       "      <th>table_name</th>\n",
       "      <th>column_name</th>\n",
       "      <th>column_description</th>\n",
       "      <th>注释</th>\n",
       "      <th>table_name_all</th>\n",
       "      <th>库_表名</th>\n",
       "      <th>库名中文</th>\n",
       "      <th>表中文</th>\n",
       "      <th>max_v</th>\n",
       "      <th>额外注释</th>\n",
       "      <th>Null_Rate</th>\n",
       "      <th>Null_Rate_str</th>\n",
       "    </tr>\n",
       "  </thead>\n",
       "  <tbody>\n",
       "    <tr>\n",
       "      <th>0</th>\n",
       "      <td>LC_StockArchives</td>\n",
       "      <td>ID</td>\n",
       "      <td>ID</td>\n",
       "      <td></td>\n",
       "      <td>AStockBasicInfoDB.LC_StockArchives</td>\n",
       "      <td>上市公司基本资料.公司概况</td>\n",
       "      <td>上市公司基本资料</td>\n",
       "      <td>公司概况</td>\n",
       "      <td>NaN</td>\n",
       "      <td>NaN</td>\n",
       "      <td>0.0</td>\n",
       "      <td></td>\n",
       "    </tr>\n",
       "  </tbody>\n",
       "</table>\n",
       "</div>"
      ],
      "text/plain": [
       "         table_name column_name column_description 注释  \\\n",
       "0  LC_StockArchives          ID                 ID      \n",
       "\n",
       "                       table_name_all           库_表名      库名中文   表中文  max_v  \\\n",
       "0  AStockBasicInfoDB.LC_StockArchives  上市公司基本资料.公司概况  上市公司基本资料  公司概况    NaN   \n",
       "\n",
       "  额外注释  Null_Rate Null_Rate_str  \n",
       "0  NaN        0.0                "
      ]
     },
     "execution_count": 12,
     "metadata": {},
     "output_type": "execute_result"
    },
    {
     "data": {
      "text/html": [
       "<div>\n",
       "<style scoped>\n",
       "    .dataframe tbody tr th:only-of-type {\n",
       "        vertical-align: middle;\n",
       "    }\n",
       "\n",
       "    .dataframe tbody tr th {\n",
       "        vertical-align: top;\n",
       "    }\n",
       "\n",
       "    .dataframe thead th {\n",
       "        text-align: right;\n",
       "    }\n",
       "</style>\n",
       "<table border=\"1\" class=\"dataframe\">\n",
       "  <thead>\n",
       "    <tr style=\"text-align: right;\">\n",
       "      <th></th>\n",
       "      <th>库名中文</th>\n",
       "      <th>库名英文</th>\n",
       "      <th>表英文</th>\n",
       "      <th>表中文</th>\n",
       "      <th>表描述</th>\n",
       "      <th>库_表名</th>\n",
       "      <th>table_name_all</th>\n",
       "      <th>表描述简介</th>\n",
       "    </tr>\n",
       "  </thead>\n",
       "  <tbody>\n",
       "    <tr>\n",
       "      <th>0</th>\n",
       "      <td>上市公司基本资料</td>\n",
       "      <td>AStockBasicInfoDB</td>\n",
       "      <td>LC_StockArchives</td>\n",
       "      <td>公司概况</td>\n",
       "      <td>收录上市公司的基本情况，包括：联系方式、注册信息、中介机构、行业和产品、公司证券品种及背景资料等内容。</td>\n",
       "      <td>上市公司基本资料.公司概况</td>\n",
       "      <td>AStockBasicInfoDB.LC_StockArchives</td>\n",
       "      <td>收录上市公司的基本情况，包括：联系方式、注册信息、中介机构、行业和产品、公司证券品种及背景资料等内容</td>\n",
       "    </tr>\n",
       "  </tbody>\n",
       "</table>\n",
       "</div>"
      ],
      "text/plain": [
       "       库名中文               库名英文               表英文   表中文  \\\n",
       "0  上市公司基本资料  AStockBasicInfoDB  LC_StockArchives  公司概况   \n",
       "\n",
       "                                                   表描述           库_表名  \\\n",
       "0  收录上市公司的基本情况，包括：联系方式、注册信息、中介机构、行业和产品、公司证券品种及背景资料等内容。  上市公司基本资料.公司概况   \n",
       "\n",
       "                       table_name_all  \\\n",
       "0  AStockBasicInfoDB.LC_StockArchives   \n",
       "\n",
       "                                                表描述简介  \n",
       "0  收录上市公司的基本情况，包括：联系方式、注册信息、中介机构、行业和产品、公司证券品种及背景资料等内容  "
      ]
     },
     "execution_count": 12,
     "metadata": {},
     "output_type": "execute_result"
    }
   ],
   "source": [
    "# df_tmp = df_col[~df_col['额外注释'].isnull()]\n",
    "# df_tmp.shape\n",
    "# df_tmp[df_tmp['额外注释'].str.contains('CHAR_LENGTH')][['table_name', 'column_name', 'column_description', '额外注释']]\n",
    "df_col.head(1)\n",
    "df_table.head(1)"
   ]
  },
  {
   "cell_type": "code",
   "execution_count": 15,
   "metadata": {},
   "outputs": [
    {
     "name": "stdout",
     "output_type": "stream",
     "text": [
      "ok\n"
     ]
    }
   ],
   "source": [
    "df_table.to_parquet(f'{data_save_path}/df_table.parquet')\n",
    "df_col.to_parquet(f'{data_save_path}/df_col.parquet')\n",
    "print('ok')"
   ]
  },
  {
   "cell_type": "markdown",
   "metadata": {},
   "source": [
    "### embedding初始化"
   ]
  },
  {
   "cell_type": "code",
   "execution_count": 16,
   "metadata": {},
   "outputs": [
    {
     "name": "stderr",
     "output_type": "stream",
     "text": [
      "100%|██████████| 4/4 [00:02<00:00,  1.62it/s]\n",
      "100%|██████████| 139/139 [01:31<00:00,  1.52it/s]\n"
     ]
    },
    {
     "data": {
      "text/plain": [
       "(77, 2772)"
      ]
     },
     "execution_count": 16,
     "metadata": {},
     "output_type": "execute_result"
    }
   ],
   "source": [
    "# tabel_columns & schema embedding\n",
    "schema_embeddings_list = get_embeddings(df_table['库_表名'].tolist(), tqdm_flag=True)\n",
    "table_columns_embeddings_list = get_embeddings(df_col['column_description'].tolist(), tqdm_flag=True)\n",
    "len(schema_embeddings_list), len(table_columns_embeddings_list)\n",
    "pd.DataFrame(table_columns_embeddings_list, columns=['text', 'embedding']).to_parquet(f'{data_save_path}/table_columns_embeddings.parquet')\n",
    "pd.DataFrame(schema_embeddings_list, columns=['schema', 'embedding']).to_parquet(f'{data_save_path}/schema_embeddings.parquet')"
   ]
  },
  {
   "cell_type": "code",
   "execution_count": 19,
   "metadata": {},
   "outputs": [],
   "source": [
    "# # 读取\n",
    "# schema_embeddings_list = pd.read_parquet('../data/interim/schema_embeddings.parquet')\n",
    "# schema_embeddings_list = [tuple(x.values()) for x in schema_embeddings_list.to_dict('records')]\n",
    "# table_columns_embeddings_list = pd.read_parquet('../data/interim/table_columns_embeddings.parquet')\n",
    "# table_columns_embeddings_list = [tuple(x.values()) for x in table_columns_embeddings_list.to_dict('records')]\n",
    "# len(table_columns_embeddings_list), len(schema_embeddings_list)"
   ]
  },
  {
   "cell_type": "markdown",
   "metadata": {},
   "source": [
    "#### 码值处理embedding"
   ]
  },
  {
   "cell_type": "code",
   "execution_count": 20,
   "metadata": {},
   "outputs": [
    {
     "data": {
      "text/html": [
       "<div>\n",
       "<style scoped>\n",
       "    .dataframe tbody tr th:only-of-type {\n",
       "        vertical-align: middle;\n",
       "    }\n",
       "\n",
       "    .dataframe tbody tr th {\n",
       "        vertical-align: top;\n",
       "    }\n",
       "\n",
       "    .dataframe thead th {\n",
       "        text-align: right;\n",
       "    }\n",
       "</style>\n",
       "<table border=\"1\" class=\"dataframe\">\n",
       "  <thead>\n",
       "    <tr style=\"text-align: right;\">\n",
       "      <th></th>\n",
       "      <th>code_v_dict</th>\n",
       "      <th>column_description</th>\n",
       "      <th>table_name</th>\n",
       "      <th>column_name</th>\n",
       "      <th>table_name_all</th>\n",
       "    </tr>\n",
       "  </thead>\n",
       "  <tbody>\n",
       "    <tr>\n",
       "      <th>781</th>\n",
       "      <td>[{'code': '1000', 'doc': '美元'}, {'code': '1001', 'doc': '美分'}, {'code': '1002', 'doc': '美元(次日'}, {'code': '1003', 'doc': '美元(同日'}, {'code': '1100', 'doc': '港元'}, {'code': '1110', 'doc': '印度卢比'}, {...</td>\n",
       "      <td>货币单位</td>\n",
       "      <td>LC_BuybackAttach</td>\n",
       "      <td>CurrencyUnit</td>\n",
       "      <td>AStockShareholderDB.LC_BuybackAttach</td>\n",
       "    </tr>\n",
       "    <tr>\n",
       "      <th>1118</th>\n",
       "      <td>[{'code': '0', 'doc': '否'}, {'code': '1', 'doc': '是'}, {'code': '8', 'doc': '对价'}, {'code': '24', 'doc': '重整计划'}, {'code': '25', 'doc': '特殊分红'}, {'code': '26', 'doc': '面值拆分'}, {'code': '99', 'doc'...</td>\n",
       "      <td>是否分红</td>\n",
       "      <td>LC_Dividend</td>\n",
       "      <td>IfDividend</td>\n",
       "      <td>AStockFinanceDB.LC_Dividend</td>\n",
       "    </tr>\n",
       "  </tbody>\n",
       "</table>\n",
       "</div>"
      ],
      "text/plain": [
       "                                                                                                                                                                                                  code_v_dict  \\\n",
       "781   [{'code': '1000', 'doc': '美元'}, {'code': '1001', 'doc': '美分'}, {'code': '1002', 'doc': '美元(次日'}, {'code': '1003', 'doc': '美元(同日'}, {'code': '1100', 'doc': '港元'}, {'code': '1110', 'doc': '印度卢比'}, {...   \n",
       "1118  [{'code': '0', 'doc': '否'}, {'code': '1', 'doc': '是'}, {'code': '8', 'doc': '对价'}, {'code': '24', 'doc': '重整计划'}, {'code': '25', 'doc': '特殊分红'}, {'code': '26', 'doc': '面值拆分'}, {'code': '99', 'doc'...   \n",
       "\n",
       "     column_description        table_name   column_name  \\\n",
       "781                货币单位  LC_BuybackAttach  CurrencyUnit   \n",
       "1118               是否分红       LC_Dividend    IfDividend   \n",
       "\n",
       "                            table_name_all  \n",
       "781   AStockShareholderDB.LC_BuybackAttach  \n",
       "1118           AStockFinanceDB.LC_Dividend  "
      ]
     },
     "execution_count": 20,
     "metadata": {},
     "output_type": "execute_result"
    },
    {
     "data": {
      "text/plain": [
       "(244, 5)"
      ]
     },
     "execution_count": 20,
     "metadata": {},
     "output_type": "execute_result"
    }
   ],
   "source": [
    "# 正常码值处理\n",
    "df_col['code_value'] = df_col['注释'].apply(lambda x: get_code_value(x) if isinstance(x, str) else '')\n",
    "df_col['code_v_dict'] = df_col['code_value'].apply(lambda x: code_value2dict(x) if isinstance(x, str) else {})\n",
    "df_code_v = df_col[df_col['code_value']!=''][['code_v_dict','column_description', 'table_name', 'column_name', 'table_name_all']]\n",
    "df_col = df_col.drop('code_v_dict', axis=1)\n",
    "df_code_v.sample(2)\n",
    "df_code_v.shape\n",
    "df_code_v.to_parquet(f'{data_save_path}/df_code_v完整码值信息.parquet')"
   ]
  },
  {
   "cell_type": "code",
   "execution_count": 21,
   "metadata": {},
   "outputs": [
    {
     "data": {
      "text/plain": [
       "(34, 13)"
      ]
     },
     "execution_count": 21,
     "metadata": {},
     "output_type": "execute_result"
    },
    {
     "name": "stderr",
     "output_type": "stream",
     "text": [
      "0it [00:00, ?it/s]"
     ]
    },
    {
     "name": "stderr",
     "output_type": "stream",
     "text": [
      "34it [00:16,  2.06it/s]"
     ]
    },
    {
     "name": "stdout",
     "output_type": "stream",
     "text": [
      "num: (34, 14)\n",
      "code_num 有数据 (33, 14)\n"
     ]
    },
    {
     "name": "stderr",
     "output_type": "stream",
     "text": [
      "\n"
     ]
    },
    {
     "data": {
      "text/html": [
       "<div>\n",
       "<style scoped>\n",
       "    .dataframe tbody tr th:only-of-type {\n",
       "        vertical-align: middle;\n",
       "    }\n",
       "\n",
       "    .dataframe tbody tr th {\n",
       "        vertical-align: top;\n",
       "    }\n",
       "\n",
       "    .dataframe thead th {\n",
       "        text-align: right;\n",
       "    }\n",
       "</style>\n",
       "<table border=\"1\" class=\"dataframe\">\n",
       "  <thead>\n",
       "    <tr style=\"text-align: right;\">\n",
       "      <th></th>\n",
       "      <th>table_name</th>\n",
       "      <th>column_name</th>\n",
       "      <th>column_description</th>\n",
       "      <th>注释</th>\n",
       "      <th>table_name_all</th>\n",
       "      <th>库_表名</th>\n",
       "      <th>库名中文</th>\n",
       "      <th>表中文</th>\n",
       "      <th>max_v</th>\n",
       "      <th>额外注释</th>\n",
       "      <th>Null_Rate</th>\n",
       "      <th>Null_Rate_str</th>\n",
       "      <th>code_value</th>\n",
       "      <th>code_num</th>\n",
       "      <th>code_v_dict</th>\n",
       "    </tr>\n",
       "  </thead>\n",
       "  <tbody>\n",
       "    <tr>\n",
       "      <th>278</th>\n",
       "      <td>LC_MainSHListNew</td>\n",
       "      <td>SHType</td>\n",
       "      <td>股东类别</td>\n",
       "      <td></td>\n",
       "      <td>AStockShareholderDB.LC_MainSHListNew</td>\n",
       "      <td>上市公司股东与股本/公司治理.股东名单(新)</td>\n",
       "      <td>上市公司股东与股本/公司治理</td>\n",
       "      <td>股东名单(新)</td>\n",
       "      <td>NaN</td>\n",
       "      <td>NaN</td>\n",
       "      <td>49.67</td>\n",
       "      <td>null ratio:49%</td>\n",
       "      <td></td>\n",
       "      <td>[{'code': '其他股东', 'num': 41804}, {'code': '外资股东', 'num': 4394}, {'code': '国有股东', 'num': 12065}]</td>\n",
       "      <td>[{'doc': '其他股东', 'code': '其他股东'}, {'doc': '外资股东', 'code': '外资股东'}, {'doc': '国有股东', 'code': '国有股东'}]</td>\n",
       "    </tr>\n",
       "  </tbody>\n",
       "</table>\n",
       "</div>"
      ],
      "text/plain": [
       "           table_name column_name column_description 注释  \\\n",
       "278  LC_MainSHListNew      SHType               股东类别      \n",
       "\n",
       "                           table_name_all                    库_表名  \\\n",
       "278  AStockShareholderDB.LC_MainSHListNew  上市公司股东与股本/公司治理.股东名单(新)   \n",
       "\n",
       "               库名中文      表中文  max_v 额外注释  Null_Rate   Null_Rate_str  \\\n",
       "278  上市公司股东与股本/公司治理  股东名单(新)    NaN  NaN      49.67  null ratio:49%   \n",
       "\n",
       "    code_value  \\\n",
       "278              \n",
       "\n",
       "                                                                                            code_num  \\\n",
       "278  [{'code': '其他股东', 'num': 41804}, {'code': '外资股东', 'num': 4394}, {'code': '国有股东', 'num': 12065}]   \n",
       "\n",
       "                                                                                             code_v_dict  \n",
       "278  [{'doc': '其他股东', 'code': '其他股东'}, {'doc': '外资股东', 'code': '外资股东'}, {'doc': '国有股东', 'code': '国有股东'}]  "
      ]
     },
     "execution_count": 21,
     "metadata": {},
     "output_type": "execute_result"
    }
   ],
   "source": [
    "def tmp_get_code_v_dict(data):\n",
    "    result = []\n",
    "    for item in data:\n",
    "        new_item = {}\n",
    "        new_item['doc'] = item['code']\n",
    "        new_item['code'] = item['code']\n",
    "        result.append(new_item)\n",
    "    return result\n",
    "\n",
    "## 数据字典没有添加的码值信息添加\n",
    "### 年报\n",
    "table_contain_InfoSource = df_code_v[(df_code_v['column_name']=='InfoSource')]['table_name'].to_list()\n",
    "df_report = df_col[(df_col['column_name']=='InfoSource') & (~df_col['table_name'].isin(table_contain_InfoSource))]\n",
    "\n",
    "### 案由描述等\n",
    "cols2_desc = ['案由描述', '股东类别']\n",
    "df_report2 = df_col[(df_col['column_description'].isin(cols2_desc))]\n",
    "df_report = pd.concat([df_report2, df_report])\n",
    "df_report.shape\n",
    "\n",
    "# 查询码值\n",
    "all_count = []\n",
    "code_v_new_all = []\n",
    "for i, row in tqdm(df_report.iterrows()):\n",
    "    col = row['column_name']\n",
    "    table_name_all = row['table_name_all']\n",
    "    \n",
    "    sql = f\"\"\"SELECT {col} as code,\n",
    "                    count(*) as num\n",
    "    FROM {table_name_all}\n",
    "    GROUP BY {col}\n",
    "    \"\"\"\n",
    "    res_sql = execute_sql(sql)\n",
    "    res_data = [x for x in res_sql['data'] if (x['num'] > 8) & (x['code'] is not None)]\n",
    "    all_count.append(res_data)\n",
    "\n",
    "df_report['code_num'] = all_count\n",
    "print('num:', df_report.shape)\n",
    "df_report = df_report[(df_report['code_num'].apply(len)>0)]\n",
    "print('code_num 有数据', df_report.shape)\n",
    "\n",
    "df_report['code_v_dict'] = df_report['code_num'].apply(tmp_get_code_v_dict)\n",
    "df_report.head(1)"
   ]
  },
  {
   "cell_type": "code",
   "execution_count": 22,
   "metadata": {},
   "outputs": [
    {
     "data": {
      "text/plain": [
       "(277, 5)"
      ]
     },
     "execution_count": 22,
     "metadata": {},
     "output_type": "execute_result"
    },
    {
     "name": "stderr",
     "output_type": "stream",
     "text": [
      "277it [01:11,  3.90it/s]\n"
     ]
    },
    {
     "data": {
      "text/html": [
       "<div>\n",
       "<style scoped>\n",
       "    .dataframe tbody tr th:only-of-type {\n",
       "        vertical-align: middle;\n",
       "    }\n",
       "\n",
       "    .dataframe tbody tr th {\n",
       "        vertical-align: top;\n",
       "    }\n",
       "\n",
       "    .dataframe thead th {\n",
       "        text-align: right;\n",
       "    }\n",
       "</style>\n",
       "<table border=\"1\" class=\"dataframe\">\n",
       "  <thead>\n",
       "    <tr style=\"text-align: right;\">\n",
       "      <th></th>\n",
       "      <th>code_v_dict</th>\n",
       "      <th>column_description</th>\n",
       "      <th>table_name</th>\n",
       "      <th>column_name</th>\n",
       "      <th>table_name_all</th>\n",
       "      <th>code_num</th>\n",
       "      <th>code_v_new</th>\n",
       "    </tr>\n",
       "  </thead>\n",
       "  <tbody>\n",
       "    <tr>\n",
       "      <th>0</th>\n",
       "      <td>[{'code': '1', 'doc': '是；0-否'}]</td>\n",
       "      <td>是否否决</td>\n",
       "      <td>LC_NameChange</td>\n",
       "      <td>IfPassed</td>\n",
       "      <td>AStockBasicInfoDB.LC_NameChange</td>\n",
       "      <td>[{'code': 0, 'num': 73}]</td>\n",
       "      <td>[]</td>\n",
       "    </tr>\n",
       "  </tbody>\n",
       "</table>\n",
       "</div>"
      ],
      "text/plain": [
       "                       code_v_dict column_description     table_name  \\\n",
       "0  [{'code': '1', 'doc': '是；0-否'}]               是否否决  LC_NameChange   \n",
       "\n",
       "  column_name                   table_name_all                  code_num  \\\n",
       "0    IfPassed  AStockBasicInfoDB.LC_NameChange  [{'code': 0, 'num': 73}]   \n",
       "\n",
       "  code_v_new  \n",
       "0         []  "
      ]
     },
     "execution_count": 22,
     "metadata": {},
     "output_type": "execute_result"
    }
   ],
   "source": [
    "# 数据字典码值信息 + 正常码值处理 合并处理\n",
    "df_code_v_all = pd.concat([df_code_v, df_report[df_code_v.columns]]).reset_index(drop=True)\n",
    "df_code_v_all.shape\n",
    "# 查询码值\n",
    "all_count = []\n",
    "code_v_new_all = []\n",
    "for i, row in tqdm(df_code_v_all.iterrows()):\n",
    "    col = row['column_name']\n",
    "    table_name_all = row['table_name_all']\n",
    "    code_v = row['code_v_dict']\n",
    "    sql = f\"\"\"SELECT {col} as code,\n",
    "                    count(*) as num\n",
    "    FROM {table_name_all}\n",
    "    GROUP BY {col}\n",
    "    \"\"\"\n",
    "    res_sql = execute_sql(sql)\n",
    "    all_count.append(res_sql['data'])\n",
    "\n",
    "    code_true = [str(x['code']) for x in res_sql['data']]\n",
    "    # 删除和保留的码值信息\n",
    "    code_delete = [x for x in code_v if x['code'] not in code_true]\n",
    "    code_v_new = [x for x in code_v if x['code'] in code_true]\n",
    "    code_v_new_all.append(code_v_new) \n",
    "    # print(f'D: {table_name_all}, {col}:', code_delete)\n",
    "\n",
    "df_code_v_all['code_num'] = all_count\n",
    "df_code_v_all['code_v_new'] = code_v_new_all\n",
    "df_code_v_all.head(1)"
   ]
  },
  {
   "cell_type": "code",
   "execution_count": 23,
   "metadata": {},
   "outputs": [
    {
     "data": {
      "text/plain": [
       "(2410, 4)"
      ]
     },
     "execution_count": 23,
     "metadata": {},
     "output_type": "execute_result"
    }
   ],
   "source": [
    "# 保存码值描述\n",
    "df_code_v_desc = pd.DataFrame()\n",
    "for _, row in df_code_v_all.iterrows():\n",
    "    df_tmp = pd.DataFrame(row['code_v_new'])\n",
    "    df_tmp['column_description'] = row['column_description']\n",
    "    df_tmp['table_name'] = row['table_name']\n",
    "    df_code_v_desc = pd.concat([df_code_v_desc, df_tmp])\n",
    "df_code_v_desc.shape"
   ]
  },
  {
   "cell_type": "code",
   "execution_count": 24,
   "metadata": {},
   "outputs": [
    {
     "data": {
      "text/plain": [
       "1699"
      ]
     },
     "execution_count": 24,
     "metadata": {},
     "output_type": "execute_result"
    },
    {
     "name": "stderr",
     "output_type": "stream",
     "text": [
      "100%|██████████| 85/85 [00:55<00:00,  1.53it/s]"
     ]
    },
    {
     "name": "stdout",
     "output_type": "stream",
     "text": [
      "ok\n"
     ]
    },
    {
     "name": "stderr",
     "output_type": "stream",
     "text": [
      "\n"
     ]
    }
   ],
   "source": [
    "# embedding存储\n",
    "code_v_list = list(df_code_v_desc['doc'].unique())\n",
    "len(code_v_list)\n",
    "\n",
    "codev_emb_list = get_embeddings(code_v_list, tqdm_flag=True)\n",
    "pd.DataFrame(codev_emb_list, columns=['code_value', 'embedding']).to_parquet(f'{data_save_path}/codev_emb_list.parquet')\n",
    "df_code_v_desc.to_parquet(f'{data_save_path}/df_code_v_desc.parquet')\n",
    "print('ok')"
   ]
  }
 ],
 "metadata": {
  "kernelspec": {
   "display_name": "lx",
   "language": "python",
   "name": "python3"
  },
  "language_info": {
   "codemirror_mode": {
    "name": "ipython",
    "version": 3
   },
   "file_extension": ".py",
   "mimetype": "text/x-python",
   "name": "python",
   "nbconvert_exporter": "python",
   "pygments_lexer": "ipython3",
   "version": "3.9.12"
  }
 },
 "nbformat": 4,
 "nbformat_minor": 2
}
